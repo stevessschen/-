{
 "cells": [
  {
   "cell_type": "code",
   "execution_count": 1,
   "metadata": {},
   "outputs": [
    {
     "name": "stderr",
     "output_type": "stream",
     "text": [
      "c:\\users\\dsbda\\anaconda3\\envs\\cathay\\lib\\site-packages\\IPython\\core\\interactiveshell.py:3058: DtypeWarning: Columns (17,21,22) have mixed types. Specify dtype option on import or set low_memory=False.\n",
      "  interactivity=interactivity, compiler=compiler, result=result)\n"
     ]
    }
   ],
   "source": [
    "# -*- coding: UTF-8 -*-\n",
    "import pandas as pd\n",
    "import numpy as np\n",
    "import re\n",
    "\n",
    "#讀取\n",
    "df = pd.read_csv('C:/Users/DSBDA/Desktop/train.csv',encoding='big5')\n",
    "\n",
    "#補空值(NA)\n",
    "#df=df.fillna(\"\")\n",
    "\n",
    "#刪除不需要的特徵(依照word檔)\n",
    "df = df.drop(['CHARGE_CITY_CD','CHARGE_CITY_CD','A_IND','B_IND','C_IND','L1YR_C_CNT','BANK_NUMBER_CNT','FINANCETOOLS_A','FINANCETOOLS_B','FINANCETOOLS_C','FINANCETOOLS_D','FINANCETOOLS_E','FINANCETOOLS_F','FINANCETOOLS_G'], axis=1)\n"
   ]
  },
  {
   "cell_type": "code",
   "execution_count": 2,
   "metadata": {},
   "outputs": [],
   "source": [
    "#補空值\n",
    "modeArray = [\"GENDER\",\"EDUCATION_CD\",\"MARRIAGE_CD\",\"OCCUPATION_CLASS_CD\",\"APC_1ST_AGE\",\"INSD_1ST_AGE\" ,\"RFM_R\",\"REBUY_TIMES_CNT\",\"LEVEL\",\"RFM_M_LEVEL\",\"X_A_IND\",\"X_B_IND\",\"X_C_IND\",\"X_D_IND\",\"X_E_IND\",\"X_F_IND\",\"X_G_IND\",\"X_H_IND\"]\n",
    "meanArray = [\"APC_1ST_YEARDIF\",\"ANNUAL_INCOME_AMT\",\"ANNUAL_PREMIUM_AMT\",\"INSD_LAST_YEARDIF_CNT\",\"BMI\",\"TERMINATION_RATE\",\"DIEBENEFIT_AMT\",\"DIEACCIDENT_AMT\",\"POLICY_VALUE_AMT\",\"ANNUITY_AMT\",\"EXPIRATION_AMT\",\"ACCIDENT_HOSPITAL_REC_AMT\",\"DISEASES_HOSPITAL_REC_AMT\",\"OUTPATIENT_SURGERY_AMT\",\"INPATIENT_SURGERY_AMT\",\"PAY_LIMIT_MED_MISC_AMT\",\"FIRST_CANCER_AMT\",\"ILL_ACCELERATION_AMT\",\"ILL_ADDITIONAL_AMT\",\"LONG_TERM_CARE_AMT\",\"MONTHLY_CARE_AMT\"]\n",
    "addInsdArray = [\"IF_ISSUE_INSD_A_IND\",\"IF_ISSUE_INSD_B_IND\",\"IF_ISSUE_INSD_C_IND\",\"IF_ISSUE_INSD_D_IND\",\"IF_ISSUE_INSD_E_IND\",\"IF_ISSUE_INSD_F_IND\",\"IF_ISSUE_INSD_G_IND\",\"IF_ISSUE_INSD_H_IND\",\"IF_ISSUE_INSD_I_IND\",\"IF_ISSUE_INSD_J_IND\",\"IF_ISSUE_INSD_K_IND\",\"IF_ISSUE_INSD_L_IND\",\"IF_ISSUE_INSD_M_IND\",\"IF_ISSUE_INSD_N_IND\",\"IF_ISSUE_INSD_O_IND\",\"IF_ISSUE_INSD_P_IND\",\"IF_ISSUE_INSD_Q_IND\",\"IF_ADD_INSD_IND\",\"IF_ADD_INSD_F_IND\",\"IF_ADD_INSD_L_IND\",\"IF_ADD_INSD_Q_IND\",\"IF_ADD_INSD_G_IND\",\"IF_ADD_INSD_R_IND\"]\n",
    "for x in range(len(modeArray)):\n",
    "    df[modeArray[x]].fillna(df[modeArray[x]].mode()[0],inplace=True)\n",
    "\n",
    "for x in range(len(meanArray)):\n",
    "    df[meanArray[x]].fillna(df[meanArray[x]].mean(),inplace=True) \n",
    "    \n",
    "for x in range(len(addInsdArray)):\n",
    "    df[addInsdArray[x]].fillna('N',inplace=True)\n",
    "\n",
    "replaceArray = [\"AGE\",\"APC_1ST_AGE\",\"INSD_1ST_AGE\",\"RFM_R\",\"REBUY_TIMES_CNT\",\"LIFE_CNT\"]\n",
    "for x in range(len(replaceArray)):\n",
    "    df[replaceArray[x]] = df[replaceArray[x]].replace([\"低\",\"中\",\"中高\",\"高\"],['1','2','3','4'])"
   ]
  },
  {
   "cell_type": "code",
   "execution_count": 3,
   "metadata": {},
   "outputs": [],
   "source": [
    "#改變被保附約NA->N\n",
    "\n",
    "df.loc[df['IF_ADD_INSD_F_IND'] == 'NA','IF_ADD_INSD_F_IND']='N'\n",
    "df.loc[df['IF_ADD_INSD_L_IND'] == 'NA','IF_ADD_INSD_L_IND']='N'\n",
    "df.loc[df['IF_ADD_INSD_Q_IND'] == 'NA','IF_ADD_INSD_Q_IND']='N'\n",
    "df.loc[df['IF_ADD_INSD_R_IND'] == 'NA','IF_ADD_INSD_R_IND']='N'\n",
    "df.loc[df['IF_ADD_INSD_G_IND'] == 'NA','IF_ADD_INSD_G_IND']='N'\n"
   ]
  },
  {
   "cell_type": "code",
   "execution_count": 4,
   "metadata": {},
   "outputs": [],
   "source": [
    "#Y->1 N->0\n",
    "df.replace(['Y','N'],['1','0'],inplace=True)\n",
    "df['CONTACT_CITY_CD'].replace(['A1','A2','B1','B2','C1','C2','D','E'],['1','2','3','4','5','6','7','8'],inplace=True)\n",
    "df['GENDER'].replace(['M','F'],['1','2'],inplace=True)\n",
    "df['CUST_9_SEGMENTS_CD'].replace(['A','B','C','D','E','F','G','H','I'],['1','2','3','4','5','6','7','8','9'],inplace=True)\n"
   ]
  },
  {
   "cell_type": "code", 
   "execution_count": 5,
   "metadata": {},
   "outputs": [],
   "source": [
    "#特徵整合\n",
    "ifIssueIndReplaceArray = [\"IF_ISSUE_A_IND\",\"IF_ISSUE_B_IND\",\"IF_ISSUE_C_IND\",\"IF_ISSUE_D_IND\",\"IF_ISSUE_E_IND\",\"IF_ISSUE_F_IND\",\"IF_ISSUE_G_IND\",\"IF_ISSUE_H_IND\",\"IF_ISSUE_I_IND\",\"IF_ISSUE_J_IND\",\"IF_ISSUE_K_IND\",\"IF_ISSUE_L_IND\",\"IF_ISSUE_M_IND\",\"IF_ISSUE_N_IND\",\"IF_ISSUE_O_IND\",\"IF_ISSUE_P_IND\",\"IF_ISSUE_Q_IND\"]\n",
    "ifAddIndReplaceArray = [\"IF_ADD_F_IND\",\"IF_ADD_L_IND\",\"IF_ADD_Q_IND\",\"IF_ADD_G_IND\",\"IF_ADD_R_IND\"]\n",
    "ifIssueInsdReplaceArray = [\"IF_ISSUE_INSD_A_IND\",\"IF_ISSUE_INSD_B_IND\",\"IF_ISSUE_INSD_C_IND\",\"IF_ISSUE_INSD_D_IND\",\"IF_ISSUE_INSD_E_IND\", \"IF_ISSUE_INSD_F_IND\",\"IF_ISSUE_INSD_G_IND\",\"IF_ISSUE_INSD_H_IND\",\"IF_ISSUE_INSD_I_IND\",\"IF_ISSUE_INSD_J_IND\",\"IF_ISSUE_INSD_K_IND\",\"IF_ISSUE_INSD_L_IND\",\"IF_ISSUE_INSD_M_IND\",\"IF_ISSUE_INSD_N_IND\",\"IF_ISSUE_INSD_O_IND\",\"IF_ISSUE_INSD_P_IND\",\"IF_ISSUE_INSD_Q_IND\"]\n",
    "ifAddInsdReplaceArray = [\"IF_ADD_INSD_F_IND\",\"IF_ADD_INSD_L_IND\",\"IF_ADD_INSD_Q_IND\",\"IF_ADD_INSD_G_IND\",\"IF_ADD_INSD_R_IND\"] \n",
    "Service_totalArray = [\"X_A_IND\",\"X_B_IND\",\"X_C_IND\",\"X_D_IND\",\"X_E_IND\",\"X_F_IND\",\"X_G_IND\",\"X_H_IND\"]\n",
    "\n",
    "\n",
    "def createFeature(df, key, array):\n",
    "    df[key] = df.loc[:,array[0]:array[-1]].astype(float).sum(axis=1)\n",
    "    df.drop(array, axis=1, inplace = True)\n",
    "    \n",
    "\n",
    "#統計總數\n",
    "#IF_ISSUE_IND_total\n",
    "createFeature(df, \"IF_ISSUE_IND_TOT \", ifIssueIndReplaceArray)\n",
    "#IF_ADD_IND_total\n",
    "createFeature(df, \"IF_ADD_IND_TOT\", ifAddIndReplaceArray)\n",
    "#(IF_ISSUE_INSD_total)\n",
    "createFeature(df, \"IF_ISSUE_INSD_IND_TOT\", ifIssueInsdReplaceArray)\n",
    "#IF_ADD_INSD_total\n",
    "createFeature(df, \"IF_ADD_INSD_IND_TOT\", ifAddInsdReplaceArray)\n",
    "#Service_total\n",
    "createFeature(df, \"Service_total\", Service_totalArray)\n",
    "\n"
   ]
  },
  {
   "cell_type": "code",
   "execution_count": 6,
   "metadata": {},
   "outputs": [],
   "source": [
    "#df.sample(30000)"
   ]
  },
  {
   "cell_type": "code",
   "execution_count": 7,
   "metadata": {},
   "outputs": [],
   "source": [
    "df.to_csv('C:/Users/DSBDA/Desktop//train_1003.csv')"
   ]
  },
  {
   "cell_type": "code",
   "execution_count": null,
   "metadata": {},
   "outputs": [],
   "source": []
  }
 ],
 "metadata": {
  "kernelspec": {
   "display_name": "Python 3",
   "language": "python",
   "name": "python3"
  },
  "language_info": {
   "codemirror_mode": {
    "name": "ipython",
    "version": 3
   },
   "file_extension": ".py",
   "mimetype": "text/x-python",
   "name": "python",
   "nbconvert_exporter": "python",
   "pygments_lexer": "ipython3",
   "version": "3.6.9"
  }
 },
 "nbformat": 4,
 "nbformat_minor": 2
}
